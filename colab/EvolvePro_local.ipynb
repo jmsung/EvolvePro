{
 "cells": [
  {
   "cell_type": "markdown",
   "metadata": {},
   "source": [
    "# EvolvePro - Local Environment Setup\n",
    "\n",
    "This notebook is adapted to run in your local environment instead of Google Colab."
   ]
  },
  {
   "cell_type": "markdown",
   "metadata": {},
   "source": [
    "## Setup: Path Configuration"
   ]
  },
  {
   "cell_type": "code",
   "execution_count": 2,
   "metadata": {},
   "outputs": [
    {
     "name": "stdout",
     "output_type": "stream",
     "text": [
      "Project root: /Users/jmsung/projects/EvolvePro\n",
      "Output directory: /Users/jmsung/projects/EvolvePro/output\n",
      "Rounds data directory: /Users/jmsung/projects/EvolvePro/colab/rounds_data\n"
     ]
    }
   ],
   "source": [
    "import os\n",
    "import sys\n",
    "\n",
    "# Add the project root to Python path\n",
    "project_root = os.path.abspath('..')\n",
    "sys.path.insert(0, project_root)\n",
    "\n",
    "# Set up paths for local environment\n",
    "base_dir = project_root\n",
    "output_dir = os.path.join(base_dir, 'output')\n",
    "rounds_data_dir = os.path.join(base_dir, 'colab', 'rounds_data')\n",
    "\n",
    "# Create output directory if it doesn't exist\n",
    "os.makedirs(output_dir, exist_ok=True)\n",
    "\n",
    "print(f'Project root: {project_root}')\n",
    "print(f'Output directory: {output_dir}')\n",
    "print(f'Rounds data directory: {rounds_data_dir}')"
   ]
  },
  {
   "cell_type": "markdown",
   "metadata": {},
   "source": [
    "## Import Required Libraries"
   ]
  },
  {
   "cell_type": "code",
   "execution_count": 3,
   "metadata": {},
   "outputs": [
    {
     "name": "stderr",
     "output_type": "stream",
     "text": [
      "/Users/jmsung/projects/EvolvePro/evolvepro/src/process.py:471: SyntaxWarning: invalid escape sequence '\\d'\n",
      "  \"(\\d+)([A-Z]+)\", expand=True\n"
     ]
    },
    {
     "name": "stdout",
     "output_type": "stream",
     "text": [
      "All imports successful!\n"
     ]
    }
   ],
   "source": [
    "# Import EvolvePro modules\n",
    "from evolvepro.src.process import generate_wt, generate_single_aa_mutants, suggest_initial_mutants\n",
    "from evolvepro.src.evolve import evolve_experimental\n",
    "from evolvepro.src.plot import read_exp_data, plot_variants_by_iteration\n",
    "\n",
    "print('All imports successful!')"
   ]
  },
  {
   "cell_type": "markdown",
   "metadata": {},
   "source": [
    "## Process: Generate Wild Type and Mutants"
   ]
  },
  {
   "cell_type": "code",
   "execution_count": 4,
   "metadata": {},
   "outputs": [
    {
     "name": "stdout",
     "output_type": "stream",
     "text": [
      "Number of mutants: 1369\n",
      "Generated wild type: /Users/jmsung/projects/EvolvePro/output/kelsic_WT.fasta\n",
      "Generated mutants: /Users/jmsung/projects/EvolvePro/output/kelsic.fasta\n"
     ]
    }
   ],
   "source": [
    "# Generate wild type sequence\n",
    "wt_sequence = 'MAKEDNIEMQGTVLETLPNTMFRVELENGHVVTAHISGKMRKNYIRILTGDKVTVELTPYDLSKGRIVFRSR'\n",
    "wt_fasta_path = os.path.join(output_dir, 'kelsic_WT.fasta')\n",
    "generate_wt(wt_sequence, output_file=wt_fasta_path)\n",
    "\n",
    "# Generate single amino acid mutants\n",
    "mutants_fasta_path = os.path.join(output_dir, 'kelsic.fasta')\n",
    "generate_single_aa_mutants(wt_fasta_path, output_file=mutants_fasta_path)\n",
    "\n",
    "print(f'Generated wild type: {wt_fasta_path}')\n",
    "print(f'Generated mutants: {mutants_fasta_path}')"
   ]
  },
  {
   "cell_type": "code",
   "execution_count": 5,
   "metadata": {},
   "outputs": [
    {
     "name": "stdout",
     "output_type": "stream",
     "text": [
      "\n",
      "Suggested 12 mutants for testing:\n",
      "1. R23K\n",
      "2. T58E\n",
      "3. I36D\n",
      "4. V31C\n",
      "5. I7A\n",
      "6. K3F\n",
      "7. Q10P\n",
      "8. G38E\n",
      "9. E4M\n",
      "10. D61W\n",
      "11. E4Y\n",
      "12. R23N\n"
     ]
    }
   ],
   "source": [
    "# Suggest initial mutants\n",
    "suggest_initial_mutants(mutants_fasta_path, num_mutants=12, random_seed=42)"
   ]
  },
  {
   "cell_type": "markdown",
   "metadata": {},
   "source": [
    "## PLM: Extract Embeddings"
   ]
  },
  {
   "cell_type": "code",
   "execution_count": 6,
   "metadata": {},
   "outputs": [
    {
     "name": "stdout",
     "output_type": "stream",
     "text": [
      "Running ESM extraction...\n",
      "Command: python /Users/jmsung/projects/EvolvePro/evolvepro/plm/esm/extract.py esm1b_t33_650M_UR50S /Users/jmsung/projects/EvolvePro/output/kelsic.fasta kelsic_esm1b_t33_650M_UR50S --toks_per_batch 512 --include mean --concatenate_dir /Users/jmsung/projects/EvolvePro/output\n"
     ]
    },
    {
     "ename": "KeyboardInterrupt",
     "evalue": "",
     "output_type": "error",
     "traceback": [
      "\u001b[31m---------------------------------------------------------------------------\u001b[39m",
      "\u001b[31mKeyboardInterrupt\u001b[39m                         Traceback (most recent call last)",
      "\u001b[36mCell\u001b[39m\u001b[36m \u001b[39m\u001b[32mIn[6]\u001b[39m\u001b[32m, line 21\u001b[39m\n\u001b[32m     18\u001b[39m \u001b[38;5;28mprint\u001b[39m(\u001b[33mf\u001b[39m\u001b[33m'\u001b[39m\u001b[33mCommand: \u001b[39m\u001b[38;5;132;01m{\u001b[39;00m\u001b[33m'\u001b[39m\u001b[33m \u001b[39m\u001b[33m'\u001b[39m.join(cmd)\u001b[38;5;132;01m}\u001b[39;00m\u001b[33m'\u001b[39m)\n\u001b[32m     20\u001b[39m \u001b[38;5;28;01mtry\u001b[39;00m:\n\u001b[32m---> \u001b[39m\u001b[32m21\u001b[39m     result = \u001b[43msubprocess\u001b[49m\u001b[43m.\u001b[49m\u001b[43mrun\u001b[49m\u001b[43m(\u001b[49m\u001b[43mcmd\u001b[49m\u001b[43m,\u001b[49m\u001b[43m \u001b[49m\u001b[43mcwd\u001b[49m\u001b[43m=\u001b[49m\u001b[43mproject_root\u001b[49m\u001b[43m,\u001b[49m\u001b[43m \u001b[49m\u001b[43mcapture_output\u001b[49m\u001b[43m=\u001b[49m\u001b[38;5;28;43;01mTrue\u001b[39;49;00m\u001b[43m,\u001b[49m\u001b[43m \u001b[49m\u001b[43mtext\u001b[49m\u001b[43m=\u001b[49m\u001b[38;5;28;43;01mTrue\u001b[39;49;00m\u001b[43m)\u001b[49m\n\u001b[32m     22\u001b[39m     \u001b[38;5;28;01mif\u001b[39;00m result.returncode == \u001b[32m0\u001b[39m:\n\u001b[32m     23\u001b[39m         \u001b[38;5;28mprint\u001b[39m(\u001b[33m'\u001b[39m\u001b[33mESM extraction completed successfully!\u001b[39m\u001b[33m'\u001b[39m)\n",
      "\u001b[36mFile \u001b[39m\u001b[32m~/miniconda3/envs/evolvepro/lib/python3.12/subprocess.py:550\u001b[39m, in \u001b[36mrun\u001b[39m\u001b[34m(input, capture_output, timeout, check, *popenargs, **kwargs)\u001b[39m\n\u001b[32m    548\u001b[39m \u001b[38;5;28;01mwith\u001b[39;00m Popen(*popenargs, **kwargs) \u001b[38;5;28;01mas\u001b[39;00m process:\n\u001b[32m    549\u001b[39m     \u001b[38;5;28;01mtry\u001b[39;00m:\n\u001b[32m--> \u001b[39m\u001b[32m550\u001b[39m         stdout, stderr = \u001b[43mprocess\u001b[49m\u001b[43m.\u001b[49m\u001b[43mcommunicate\u001b[49m\u001b[43m(\u001b[49m\u001b[38;5;28;43minput\u001b[39;49m\u001b[43m,\u001b[49m\u001b[43m \u001b[49m\u001b[43mtimeout\u001b[49m\u001b[43m=\u001b[49m\u001b[43mtimeout\u001b[49m\u001b[43m)\u001b[49m\n\u001b[32m    551\u001b[39m     \u001b[38;5;28;01mexcept\u001b[39;00m TimeoutExpired \u001b[38;5;28;01mas\u001b[39;00m exc:\n\u001b[32m    552\u001b[39m         process.kill()\n",
      "\u001b[36mFile \u001b[39m\u001b[32m~/miniconda3/envs/evolvepro/lib/python3.12/subprocess.py:1209\u001b[39m, in \u001b[36mPopen.communicate\u001b[39m\u001b[34m(self, input, timeout)\u001b[39m\n\u001b[32m   1206\u001b[39m     endtime = \u001b[38;5;28;01mNone\u001b[39;00m\n\u001b[32m   1208\u001b[39m \u001b[38;5;28;01mtry\u001b[39;00m:\n\u001b[32m-> \u001b[39m\u001b[32m1209\u001b[39m     stdout, stderr = \u001b[38;5;28;43mself\u001b[39;49m\u001b[43m.\u001b[49m\u001b[43m_communicate\u001b[49m\u001b[43m(\u001b[49m\u001b[38;5;28;43minput\u001b[39;49m\u001b[43m,\u001b[49m\u001b[43m \u001b[49m\u001b[43mendtime\u001b[49m\u001b[43m,\u001b[49m\u001b[43m \u001b[49m\u001b[43mtimeout\u001b[49m\u001b[43m)\u001b[49m\n\u001b[32m   1210\u001b[39m \u001b[38;5;28;01mexcept\u001b[39;00m \u001b[38;5;167;01mKeyboardInterrupt\u001b[39;00m:\n\u001b[32m   1211\u001b[39m     \u001b[38;5;66;03m# https://bugs.python.org/issue25942\u001b[39;00m\n\u001b[32m   1212\u001b[39m     \u001b[38;5;66;03m# See the detailed comment in .wait().\u001b[39;00m\n\u001b[32m   1213\u001b[39m     \u001b[38;5;28;01mif\u001b[39;00m timeout \u001b[38;5;129;01mis\u001b[39;00m \u001b[38;5;129;01mnot\u001b[39;00m \u001b[38;5;28;01mNone\u001b[39;00m:\n",
      "\u001b[36mFile \u001b[39m\u001b[32m~/miniconda3/envs/evolvepro/lib/python3.12/subprocess.py:2115\u001b[39m, in \u001b[36mPopen._communicate\u001b[39m\u001b[34m(self, input, endtime, orig_timeout)\u001b[39m\n\u001b[32m   2108\u001b[39m     \u001b[38;5;28mself\u001b[39m._check_timeout(endtime, orig_timeout,\n\u001b[32m   2109\u001b[39m                         stdout, stderr,\n\u001b[32m   2110\u001b[39m                         skip_check_and_raise=\u001b[38;5;28;01mTrue\u001b[39;00m)\n\u001b[32m   2111\u001b[39m     \u001b[38;5;28;01mraise\u001b[39;00m \u001b[38;5;167;01mRuntimeError\u001b[39;00m(  \u001b[38;5;66;03m# Impossible :)\u001b[39;00m\n\u001b[32m   2112\u001b[39m         \u001b[33m'\u001b[39m\u001b[33m_check_timeout(..., skip_check_and_raise=True) \u001b[39m\u001b[33m'\u001b[39m\n\u001b[32m   2113\u001b[39m         \u001b[33m'\u001b[39m\u001b[33mfailed to raise TimeoutExpired.\u001b[39m\u001b[33m'\u001b[39m)\n\u001b[32m-> \u001b[39m\u001b[32m2115\u001b[39m ready = \u001b[43mselector\u001b[49m\u001b[43m.\u001b[49m\u001b[43mselect\u001b[49m\u001b[43m(\u001b[49m\u001b[43mtimeout\u001b[49m\u001b[43m)\u001b[49m\n\u001b[32m   2116\u001b[39m \u001b[38;5;28mself\u001b[39m._check_timeout(endtime, orig_timeout, stdout, stderr)\n\u001b[32m   2118\u001b[39m \u001b[38;5;66;03m# XXX Rewrite these to use non-blocking I/O on the file\u001b[39;00m\n\u001b[32m   2119\u001b[39m \u001b[38;5;66;03m# objects; they are no longer using C stdio!\u001b[39;00m\n",
      "\u001b[36mFile \u001b[39m\u001b[32m~/miniconda3/envs/evolvepro/lib/python3.12/selectors.py:415\u001b[39m, in \u001b[36m_PollLikeSelector.select\u001b[39m\u001b[34m(self, timeout)\u001b[39m\n\u001b[32m    413\u001b[39m ready = []\n\u001b[32m    414\u001b[39m \u001b[38;5;28;01mtry\u001b[39;00m:\n\u001b[32m--> \u001b[39m\u001b[32m415\u001b[39m     fd_event_list = \u001b[38;5;28;43mself\u001b[39;49m\u001b[43m.\u001b[49m\u001b[43m_selector\u001b[49m\u001b[43m.\u001b[49m\u001b[43mpoll\u001b[49m\u001b[43m(\u001b[49m\u001b[43mtimeout\u001b[49m\u001b[43m)\u001b[49m\n\u001b[32m    416\u001b[39m \u001b[38;5;28;01mexcept\u001b[39;00m \u001b[38;5;167;01mInterruptedError\u001b[39;00m:\n\u001b[32m    417\u001b[39m     \u001b[38;5;28;01mreturn\u001b[39;00m ready\n",
      "\u001b[31mKeyboardInterrupt\u001b[39m: "
     ]
    }
   ],
   "source": [
    "# Extract ESM embeddings with MPS support for Apple Silicon\n",
    "import subprocess\n",
    "\n",
    "embeddings_name = 'kelsic_esm1b_t33_650M_UR50S'\n",
    "esm_script = os.path.join(project_root, 'evolvepro', 'plm', 'esm', 'extract_mps.py')\n",
    "\n",
    "cmd = [\n",
    "    'python', esm_script,\n",
    "    'esm1b_t33_650M_UR50S',\n",
    "    mutants_fasta_path,\n",
    "    embeddings_name,\n",
    "    '--toks_per_batch', '512',\n",
    "    '--include', 'mean',\n",
    "    '--concatenate_dir', output_dir\n",
    "]\n",
    "\n",
    "print('Running ESM extraction with MPS support...')\n",
    "print(f'Command: {' '.join(cmd)}')\n",
    "\n",
    "try:\n",
    "    result = subprocess.run(cmd, cwd=project_root, capture_output=True, text=True)\n",
    "    if result.returncode == 0:\n",
    "        print('ESM extraction completed successfully!')\n",
    "        print('Check the output above to see if MPS (GPU) was used.')\n",
    "    else:\n",
    "        print(f'ESM extraction failed with error: {result.stderr}')\n",
    "except Exception as e:\n",
    "    print(f'Error running ESM extraction: {e}')"
   ]
  },
  {
   "cell_type": "markdown",
   "metadata": {},
   "source": [
    "## Run EVOLVEpro"
   ]
  },
  {
   "cell_type": "code",
   "execution_count": null,
   "metadata": {},
   "outputs": [],
   "source": [
    "# Set up parameters for evolution\n",
    "protein_name = 'kelsic'\n",
    "embeddings_base_path = output_dir\n",
    "embeddings_file_name = f'{embeddings_name}.csv'\n",
    "round_base_path = rounds_data_dir\n",
    "number_of_variants = 12\n",
    "rename_WT = False\n",
    "\n",
    "print(f'Protein: {protein_name}')\n",
    "print(f'Embeddings: {os.path.join(embeddings_base_path, embeddings_file_name)}')\n",
    "print(f'Rounds data: {round_base_path}')\n",
    "print(f'WT fasta: {wt_fasta_path}')"
   ]
  },
  {
   "cell_type": "markdown",
   "metadata": {},
   "source": [
    "### Round 1"
   ]
  },
  {
   "cell_type": "code",
   "execution_count": null,
   "metadata": {},
   "outputs": [],
   "source": [
    "round_name = 'Round1'\n",
    "round_file_names = ['kelsic_Round1.xlsx']\n",
    "\n",
    "this_round_variants, df_test, df_sorted_all = evolve_experimental(\n",
    "    protein_name,\n",
    "    round_name,\n",
    "    embeddings_base_path,\n",
    "    embeddings_file_name,\n",
    "    round_base_path,\n",
    "    round_file_names,\n",
    "    wt_fasta_path,\n",
    "    rename_WT,\n",
    "    number_of_variants,\n",
    "    output_dir\n",
    ")\n",
    "\n",
    "print(f'Round 1 completed. Selected variants: {this_round_variants}')"
   ]
  },
  {
   "cell_type": "markdown",
   "metadata": {},
   "source": [
    "### Round 2"
   ]
  },
  {
   "cell_type": "code",
   "execution_count": null,
   "metadata": {},
   "outputs": [],
   "source": [
    "round_name = 'Round2'\n",
    "round_file_names = ['kelsic_Round1.xlsx', 'kelsic_Round2.xlsx']\n",
    "\n",
    "this_round_variants, df_test, df_sorted_all = evolve_experimental(\n",
    "    protein_name,\n",
    "    round_name,\n",
    "    embeddings_base_path,\n",
    "    embeddings_file_name,\n",
    "    round_base_path,\n",
    "    round_file_names,\n",
    "    wt_fasta_path,\n",
    "    rename_WT,\n",
    "    number_of_variants,\n",
    "    output_dir\n",
    ")\n",
    "\n",
    "print(f'Round 2 completed. Selected variants: {this_round_variants}')"
   ]
  },
  {
   "cell_type": "markdown",
   "metadata": {},
   "source": [
    "### Round 3"
   ]
  },
  {
   "cell_type": "code",
   "execution_count": null,
   "metadata": {},
   "outputs": [],
   "source": [
    "round_name = 'Round3'\n",
    "round_file_names = ['kelsic_Round1.xlsx', 'kelsic_Round2.xlsx', 'kelsic_Round3.xlsx']\n",
    "\n",
    "this_round_variants, df_test, df_sorted_all = evolve_experimental(\n",
    "    protein_name,\n",
    "    round_name,\n",
    "    embeddings_base_path,\n",
    "    embeddings_file_name,\n",
    "    round_base_path,\n",
    "    round_file_names,\n",
    "    wt_fasta_path,\n",
    "    rename_WT,\n",
    "    number_of_variants,\n",
    "    output_dir\n",
    ")\n",
    "\n",
    "print(f'Round 3 completed. Selected variants: {this_round_variants}')"
   ]
  },
  {
   "cell_type": "markdown",
   "metadata": {},
   "source": [
    "### Round 4"
   ]
  },
  {
   "cell_type": "code",
   "execution_count": null,
   "metadata": {},
   "outputs": [],
   "source": [
    "round_name = 'Round4'\n",
    "round_file_names = ['kelsic_Round1.xlsx', 'kelsic_Round2.xlsx', 'kelsic_Round3.xlsx', 'kelsic_Round4.xlsx']\n",
    "\n",
    "this_round_variants, df_test, df_sorted_all = evolve_experimental(\n",
    "    protein_name,\n",
    "    round_name,\n",
    "    embeddings_base_path,\n",
    "    embeddings_file_name,\n",
    "    round_base_path,\n",
    "    round_file_names,\n",
    "    wt_fasta_path,\n",
    "    rename_WT,\n",
    "    number_of_variants,\n",
    "    output_dir\n",
    ")\n",
    "\n",
    "print(f'Round 4 completed. Selected variants: {this_round_variants}')"
   ]
  },
  {
   "cell_type": "markdown",
   "metadata": {},
   "source": [
    "### Round 5"
   ]
  },
  {
   "cell_type": "code",
   "execution_count": null,
   "metadata": {},
   "outputs": [],
   "source": [
    "round_name = 'Round5'\n",
    "round_file_names = ['kelsic_Round1.xlsx', 'kelsic_Round2.xlsx', 'kelsic_Round3.xlsx', 'kelsic_Round4.xlsx', 'kelsic_Round5.xlsx']\n",
    "\n",
    "this_round_variants, df_test, df_sorted_all = evolve_experimental(\n",
    "    protein_name,\n",
    "    round_name,\n",
    "    embeddings_base_path,\n",
    "    embeddings_file_name,\n",
    "    round_base_path,\n",
    "    round_file_names,\n",
    "    wt_fasta_path,\n",
    "    rename_WT,\n",
    "    number_of_variants,\n",
    "    output_dir\n",
    ")\n",
    "\n",
    "print(f'Round 5 completed. Selected variants: {this_round_variants}')"
   ]
  },
  {
   "cell_type": "markdown",
   "metadata": {},
   "source": [
    "## Plot Results"
   ]
  },
  {
   "cell_type": "code",
   "execution_count": null,
   "metadata": {},
   "outputs": [],
   "source": [
    "# Read experimental data and create plots\n",
    "round_file_names = ['kelsic_Round1.xlsx', 'kelsic_Round2.xlsx', 'kelsic_Round3.xlsx', 'kelsic_Round4.xlsx', 'kelsic_Round5.xlsx']\n",
    "\n",
    "df = read_exp_data(round_base_path, round_file_names, wt_fasta_path)\n",
    "plot_variants_by_iteration(df, activity_column='activity', output_dir=output_dir, output_file='kelsic')\n",
    "\n",
    "print('Plots generated successfully!')\n",
    "print(f'Output directory: {output_dir}')"
   ]
  }
 ],
 "metadata": {
  "kernelspec": {
   "display_name": "evolvepro",
   "language": "python",
   "name": "python3"
  },
  "language_info": {
   "codemirror_mode": {
    "name": "ipython",
    "version": 3
   },
   "file_extension": ".py",
   "mimetype": "text/x-python",
   "name": "python",
   "nbconvert_exporter": "python",
   "pygments_lexer": "ipython3",
   "version": "3.12.11"
  }
 },
 "nbformat": 4,
 "nbformat_minor": 4
}
